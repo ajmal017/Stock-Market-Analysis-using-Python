{
 "cells": [
  {
   "cell_type": "code",
   "execution_count": 30,
   "metadata": {},
   "outputs": [],
   "source": [
    "#load the libraries \n",
    "import pandas as pd\n",
    "import matplotlib.pyplot as plt\n",
    "\n",
    "%matplotlib inline\n",
    "import os"
   ]
  },
  {
   "cell_type": "code",
   "execution_count": 31,
   "metadata": {},
   "outputs": [],
   "source": [
    "#change the directory to where the stocks dataset is located\n",
    "os.chdir('C:\\\\Users\\\\mihir\\\\Desktop\\\\IST652\\\\project\\\\')"
   ]
  },
  {
   "cell_type": "code",
   "execution_count": 32,
   "metadata": {},
   "outputs": [],
   "source": [
    "import seaborn as sns"
   ]
  },
  {
   "cell_type": "code",
   "execution_count": 33,
   "metadata": {},
   "outputs": [],
   "source": [
    "stocks=pd.read_csv(\"stockdata.csv\")"
   ]
  },
  {
   "cell_type": "code",
   "execution_count": 34,
   "metadata": {},
   "outputs": [
    {
     "data": {
      "text/plain": [
       "Unnamed: 0          int64\n",
       "date               object\n",
       "open              float64\n",
       "high              float64\n",
       "low               float64\n",
       "close             float64\n",
       "volume              int64\n",
       "company symbol     object\n",
       "dtype: object"
      ]
     },
     "execution_count": 34,
     "metadata": {},
     "output_type": "execute_result"
    }
   ],
   "source": [
    "#Basic descriptive analysis \n",
    "stocks.dtypes"
   ]
  },
  {
   "cell_type": "code",
   "execution_count": 35,
   "metadata": {},
   "outputs": [
    {
     "data": {
      "text/html": [
       "<div>\n",
       "<style scoped>\n",
       "    .dataframe tbody tr th:only-of-type {\n",
       "        vertical-align: middle;\n",
       "    }\n",
       "\n",
       "    .dataframe tbody tr th {\n",
       "        vertical-align: top;\n",
       "    }\n",
       "\n",
       "    .dataframe thead th {\n",
       "        text-align: right;\n",
       "    }\n",
       "</style>\n",
       "<table border=\"1\" class=\"dataframe\">\n",
       "  <thead>\n",
       "    <tr style=\"text-align: right;\">\n",
       "      <th></th>\n",
       "      <th>Unnamed: 0</th>\n",
       "      <th>date</th>\n",
       "      <th>open</th>\n",
       "      <th>high</th>\n",
       "      <th>low</th>\n",
       "      <th>close</th>\n",
       "      <th>volume</th>\n",
       "      <th>company symbol</th>\n",
       "    </tr>\n",
       "  </thead>\n",
       "  <tbody>\n",
       "    <tr>\n",
       "      <th>0</th>\n",
       "      <td>0</td>\n",
       "      <td>2019-03-22</td>\n",
       "      <td>119.500</td>\n",
       "      <td>119.59</td>\n",
       "      <td>117.04</td>\n",
       "      <td>117.05</td>\n",
       "      <td>32334254</td>\n",
       "      <td>MSFT</td>\n",
       "    </tr>\n",
       "    <tr>\n",
       "      <th>1</th>\n",
       "      <td>1</td>\n",
       "      <td>2019-03-21</td>\n",
       "      <td>117.135</td>\n",
       "      <td>120.82</td>\n",
       "      <td>117.09</td>\n",
       "      <td>120.22</td>\n",
       "      <td>29854446</td>\n",
       "      <td>MSFT</td>\n",
       "    </tr>\n",
       "    <tr>\n",
       "      <th>2</th>\n",
       "      <td>2</td>\n",
       "      <td>2019-03-20</td>\n",
       "      <td>117.390</td>\n",
       "      <td>118.75</td>\n",
       "      <td>116.71</td>\n",
       "      <td>117.52</td>\n",
       "      <td>28113343</td>\n",
       "      <td>MSFT</td>\n",
       "    </tr>\n",
       "    <tr>\n",
       "      <th>3</th>\n",
       "      <td>3</td>\n",
       "      <td>2019-03-19</td>\n",
       "      <td>118.090</td>\n",
       "      <td>118.44</td>\n",
       "      <td>116.99</td>\n",
       "      <td>117.65</td>\n",
       "      <td>37588697</td>\n",
       "      <td>MSFT</td>\n",
       "    </tr>\n",
       "    <tr>\n",
       "      <th>4</th>\n",
       "      <td>4</td>\n",
       "      <td>2019-03-18</td>\n",
       "      <td>116.170</td>\n",
       "      <td>117.61</td>\n",
       "      <td>116.05</td>\n",
       "      <td>117.57</td>\n",
       "      <td>31207596</td>\n",
       "      <td>MSFT</td>\n",
       "    </tr>\n",
       "  </tbody>\n",
       "</table>\n",
       "</div>"
      ],
      "text/plain": [
       "   Unnamed: 0        date     open    high     low   close    volume  \\\n",
       "0           0  2019-03-22  119.500  119.59  117.04  117.05  32334254   \n",
       "1           1  2019-03-21  117.135  120.82  117.09  120.22  29854446   \n",
       "2           2  2019-03-20  117.390  118.75  116.71  117.52  28113343   \n",
       "3           3  2019-03-19  118.090  118.44  116.99  117.65  37588697   \n",
       "4           4  2019-03-18  116.170  117.61  116.05  117.57  31207596   \n",
       "\n",
       "  company symbol  \n",
       "0           MSFT  \n",
       "1           MSFT  \n",
       "2           MSFT  \n",
       "3           MSFT  \n",
       "4           MSFT  "
      ]
     },
     "execution_count": 35,
     "metadata": {},
     "output_type": "execute_result"
    }
   ],
   "source": [
    "stocks.head()"
   ]
  },
  {
   "cell_type": "code",
   "execution_count": 7,
   "metadata": {},
   "outputs": [
    {
     "data": {
      "text/plain": [
       "(220872, 8)"
      ]
     },
     "execution_count": 7,
     "metadata": {},
     "output_type": "execute_result"
    }
   ],
   "source": [
    "stocks.shape"
   ]
  },
  {
   "cell_type": "code",
   "execution_count": 8,
   "metadata": {},
   "outputs": [
    {
     "data": {
      "text/plain": [
       "Index(['Unnamed: 0', 'date', 'open', 'high', 'low', 'close', 'volume',\n",
       "       'company symbol'],\n",
       "      dtype='object')"
      ]
     },
     "execution_count": 8,
     "metadata": {},
     "output_type": "execute_result"
    }
   ],
   "source": [
    "stocks.columns"
   ]
  },
  {
   "cell_type": "code",
   "execution_count": 9,
   "metadata": {},
   "outputs": [],
   "source": [
    "stocks=stocks.drop(columns=['Unnamed: 0'],axis=1)"
   ]
  },
  {
   "cell_type": "code",
   "execution_count": 36,
   "metadata": {},
   "outputs": [],
   "source": [
    "#convert the date to date time object\n",
    "stocks['date']=pd.to_datetime(stocks['date'])"
   ]
  },
  {
   "cell_type": "code",
   "execution_count": 11,
   "metadata": {},
   "outputs": [
    {
     "data": {
      "text/plain": [
       "date              0\n",
       "open              0\n",
       "high              0\n",
       "low               0\n",
       "close             0\n",
       "volume            0\n",
       "company symbol    0\n",
       "dtype: int64"
      ]
     },
     "execution_count": 11,
     "metadata": {},
     "output_type": "execute_result"
    }
   ],
   "source": [
    "#Check for missing values \n",
    "stocks.isnull().sum()"
   ]
  },
  {
   "cell_type": "code",
   "execution_count": 12,
   "metadata": {},
   "outputs": [],
   "source": [
    "#Average traded volume for last 5 years"
   ]
  },
  {
   "cell_type": "code",
   "execution_count": 13,
   "metadata": {},
   "outputs": [],
   "source": [
    "#get the year from the date time object \n",
    "year=[i.date for i in stocks['date']]"
   ]
  },
  {
   "cell_type": "code",
   "execution_count": 14,
   "metadata": {},
   "outputs": [],
   "source": [
    "stocks['year']=stocks['date'].dt.year"
   ]
  },
  {
   "cell_type": "code",
   "execution_count": 15,
   "metadata": {},
   "outputs": [
    {
     "data": {
      "text/html": [
       "<div>\n",
       "<style scoped>\n",
       "    .dataframe tbody tr th:only-of-type {\n",
       "        vertical-align: middle;\n",
       "    }\n",
       "\n",
       "    .dataframe tbody tr th {\n",
       "        vertical-align: top;\n",
       "    }\n",
       "\n",
       "    .dataframe thead th {\n",
       "        text-align: right;\n",
       "    }\n",
       "</style>\n",
       "<table border=\"1\" class=\"dataframe\">\n",
       "  <thead>\n",
       "    <tr style=\"text-align: right;\">\n",
       "      <th></th>\n",
       "      <th>date</th>\n",
       "      <th>open</th>\n",
       "      <th>high</th>\n",
       "      <th>low</th>\n",
       "      <th>close</th>\n",
       "      <th>volume</th>\n",
       "      <th>company symbol</th>\n",
       "      <th>year</th>\n",
       "    </tr>\n",
       "  </thead>\n",
       "  <tbody>\n",
       "    <tr>\n",
       "      <th>0</th>\n",
       "      <td>2019-03-22</td>\n",
       "      <td>119.500</td>\n",
       "      <td>119.59</td>\n",
       "      <td>117.04</td>\n",
       "      <td>117.05</td>\n",
       "      <td>32334254</td>\n",
       "      <td>MSFT</td>\n",
       "      <td>2019</td>\n",
       "    </tr>\n",
       "    <tr>\n",
       "      <th>1</th>\n",
       "      <td>2019-03-21</td>\n",
       "      <td>117.135</td>\n",
       "      <td>120.82</td>\n",
       "      <td>117.09</td>\n",
       "      <td>120.22</td>\n",
       "      <td>29854446</td>\n",
       "      <td>MSFT</td>\n",
       "      <td>2019</td>\n",
       "    </tr>\n",
       "    <tr>\n",
       "      <th>2</th>\n",
       "      <td>2019-03-20</td>\n",
       "      <td>117.390</td>\n",
       "      <td>118.75</td>\n",
       "      <td>116.71</td>\n",
       "      <td>117.52</td>\n",
       "      <td>28113343</td>\n",
       "      <td>MSFT</td>\n",
       "      <td>2019</td>\n",
       "    </tr>\n",
       "    <tr>\n",
       "      <th>3</th>\n",
       "      <td>2019-03-19</td>\n",
       "      <td>118.090</td>\n",
       "      <td>118.44</td>\n",
       "      <td>116.99</td>\n",
       "      <td>117.65</td>\n",
       "      <td>37588697</td>\n",
       "      <td>MSFT</td>\n",
       "      <td>2019</td>\n",
       "    </tr>\n",
       "    <tr>\n",
       "      <th>4</th>\n",
       "      <td>2019-03-18</td>\n",
       "      <td>116.170</td>\n",
       "      <td>117.61</td>\n",
       "      <td>116.05</td>\n",
       "      <td>117.57</td>\n",
       "      <td>31207596</td>\n",
       "      <td>MSFT</td>\n",
       "      <td>2019</td>\n",
       "    </tr>\n",
       "  </tbody>\n",
       "</table>\n",
       "</div>"
      ],
      "text/plain": [
       "        date     open    high     low   close    volume company symbol  year\n",
       "0 2019-03-22  119.500  119.59  117.04  117.05  32334254           MSFT  2019\n",
       "1 2019-03-21  117.135  120.82  117.09  120.22  29854446           MSFT  2019\n",
       "2 2019-03-20  117.390  118.75  116.71  117.52  28113343           MSFT  2019\n",
       "3 2019-03-19  118.090  118.44  116.99  117.65  37588697           MSFT  2019\n",
       "4 2019-03-18  116.170  117.61  116.05  117.57  31207596           MSFT  2019"
      ]
     },
     "execution_count": 15,
     "metadata": {},
     "output_type": "execute_result"
    }
   ],
   "source": [
    "stocks.head()"
   ]
  },
  {
   "cell_type": "code",
   "execution_count": 16,
   "metadata": {},
   "outputs": [
    {
     "data": {
      "text/plain": [
       "date              datetime64[ns]\n",
       "open                     float64\n",
       "high                     float64\n",
       "low                      float64\n",
       "close                    float64\n",
       "volume                     int64\n",
       "company symbol            object\n",
       "year                       int64\n",
       "dtype: object"
      ]
     },
     "execution_count": 16,
     "metadata": {},
     "output_type": "execute_result"
    }
   ],
   "source": [
    "stocks.dtypes"
   ]
  },
  {
   "cell_type": "code",
   "execution_count": 17,
   "metadata": {},
   "outputs": [],
   "source": [
    "#group by year and company symbol\n",
    "grouped=stocks.groupby(['year','company symbol'])"
   ]
  },
  {
   "cell_type": "code",
   "execution_count": 18,
   "metadata": {},
   "outputs": [],
   "source": [
    "pd.options.display.float_format = '{:f}'.format"
   ]
  },
  {
   "cell_type": "code",
   "execution_count": 19,
   "metadata": {},
   "outputs": [],
   "source": [
    "#get average yearly volume \n",
    "volumes=grouped['volume'].mean()"
   ]
  },
  {
   "cell_type": "code",
   "execution_count": 20,
   "metadata": {},
   "outputs": [
    {
     "data": {
      "text/plain": [
       "year  company symbol\n",
       "1998  AABA              5192975.198413\n",
       "      AAPL              4081426.984127\n",
       "      ADBE              1112520.238095\n",
       "      ADI               1344595.634921\n",
       "      ADP                792072.619048\n",
       "      AMAT              7618566.269841\n",
       "      AMGN              3024364.682540\n",
       "      AMZN              3127134.722222\n",
       "      BIIB               445048.809524\n",
       "      CELG               189184.126984\n",
       "      CMCSA              638877.777778\n",
       "      COST              1941125.793651\n",
       "      CSCO             12267041.130952\n",
       "      CSX                521947.222222\n",
       "      CTSH               112197.794118\n",
       "      GILD               373806.349206\n",
       "      INTC             17229461.904762\n",
       "      INTU               959421.031746\n",
       "      MAR                512662.543651\n",
       "      MSFT             13622545.833333\n",
       "      MU                4492458.730159\n",
       "      PEP               3989050.000000\n",
       "      QCOM              1499876.190476\n",
       "      REGN                98362.301587\n",
       "      SBUX              1294162.301587\n",
       "      TXN               3029928.968254\n",
       "      VRTX               236288.095238\n",
       "      WBA                839497.222222\n",
       "1999  AABA              8442527.380952\n",
       "      AAPL              4857663.888889\n",
       "                             ...      \n",
       "2019  CSCO             21646644.357143\n",
       "      CSX               5306389.017857\n",
       "      CTSH              3622778.053571\n",
       "      EQIX               619494.214286\n",
       "      FB               20627269.392857\n",
       "      GILD              7614395.232143\n",
       "      GOOG              1503126.607143\n",
       "      GOOGL             1671476.803571\n",
       "      ILMN               987050.107143\n",
       "      INTC             24620318.571429\n",
       "      INTU              1542497.571429\n",
       "      ISRG               724436.339286\n",
       "      KHC              12793215.750000\n",
       "      MAR               2149079.321429\n",
       "      MDLZ              8059715.875000\n",
       "      MSFT             29489698.357143\n",
       "      MU               34271938.946429\n",
       "      NFLX             10117323.553571\n",
       "      NVDA             16849992.017857\n",
       "      PEP               5610272.071429\n",
       "      PYPL              7867342.535714\n",
       "      QCOM             14834289.642857\n",
       "      QQQ              36950775.410714\n",
       "      REGN               726810.000000\n",
       "      SBUX             11536854.642857\n",
       "      TMUS              3514826.178571\n",
       "      TSLA              8551248.142857\n",
       "      TXN               5926457.410714\n",
       "      VRTX              1487091.892857\n",
       "      WBA               5884023.589286\n",
       "Name: volume, Length: 925, dtype: float64"
      ]
     },
     "execution_count": 20,
     "metadata": {},
     "output_type": "execute_result"
    }
   ],
   "source": [
    "volumes"
   ]
  },
  {
   "cell_type": "code",
   "execution_count": 21,
   "metadata": {},
   "outputs": [],
   "source": [
    "#filter for last 5 years \n",
    "google=volumes.loc[2014:2018,['GOOGL']]"
   ]
  },
  {
   "cell_type": "code",
   "execution_count": 22,
   "metadata": {},
   "outputs": [],
   "source": [
    "google=pd.DataFrame(google)"
   ]
  },
  {
   "cell_type": "code",
   "execution_count": 23,
   "metadata": {},
   "outputs": [],
   "source": [
    "google.index.name = 'year'\n",
    "google.reset_index(inplace=True)"
   ]
  },
  {
   "cell_type": "code",
   "execution_count": 24,
   "metadata": {},
   "outputs": [
    {
     "data": {
      "image/png": "[encoded data removed]",
      "text/plain": [
       "<Figure size 432x288 with 1 Axes>"
      ]
     },
     "metadata": {
      "needs_background": "light"
     },
     "output_type": "display_data"
    }
   ],
   "source": [
    "#get the plot\n",
    "plt.plot(google['year'],google['volume'])\n",
    "plt.xticks(range(2014,2019))\n",
    "plt.xlabel(\"Year\")\n",
    "plt.ylabel(\"Volume\")\n",
    "plt.title(\"Google:Average Traded Volume for last 5 years \")\n",
    "plt.show()"
   ]
  },
  {
   "cell_type": "code",
   "execution_count": 25,
   "metadata": {},
   "outputs": [],
   "source": [
    "companies=pd.read_csv('C:\\\\Users\\\\mihir\\\\Desktop\\\\IST652\\\\companylist.csv')\n",
    "stocklist=companies.sort_values(by=['MarketCap'],ascending=False)[0:50]['Symbol'].tolist()    "
   ]
  },
  {
   "cell_type": "code",
   "execution_count": 26,
   "metadata": {},
   "outputs": [
    {
     "data": {
      "text/plain": [
       "<Figure size 432x288 with 0 Axes>"
      ]
     },
     "metadata": {},
     "output_type": "display_data"
    }
   ],
   "source": [
    "#get the average volume for all 50 companies and save to disk\n",
    "for i in stocklist:\n",
    "    df=volumes.loc[2014:2018,[i]]\n",
    "    df=pd.DataFrame(df)\n",
    "    df.index.name = 'year'\n",
    "    df.reset_index(inplace=True)\n",
    "    plt.plot(df['year'],df['volume'])\n",
    "    plt.xticks(range(2014,2019))\n",
    "    plt.xlabel(\"Year\")\n",
    "    plt.ylabel(\"Volume\")\n",
    "    plt.title(\"{:s}:Average Traded Volume for last 5 years \".format(i))\n",
    "    plt.savefig(\"C:\\\\Users\\\\mihir\\\\Desktop\\\\IST652\\\\project\\\\volumes\\\\volume_{:s}.png\".format(i))\n",
    "    plt.clf()\n",
    "    \n",
    "    "
   ]
  },
  {
   "cell_type": "code",
   "execution_count": 27,
   "metadata": {},
   "outputs": [],
   "source": [
    "#Technical Indicators "
   ]
  },
  {
   "cell_type": "code",
   "execution_count": 28,
   "metadata": {},
   "outputs": [],
   "source": [
    "#Simple Moving Average \n",
    "%matplotlib inline\n",
    "import matplotlib.dates as mdates\n",
    "def SimpleMA(n,symbol,date):\n",
    "    #filter the stock \n",
    "    stock=stocks[stocks['company symbol']==symbol]\n",
    "    #sort by date \n",
    "    stock=stock.sort_values(by=['date'],ascending=True)\n",
    "    #calculate the moving average \n",
    "    mavg=pd.Series(stock['close'].rolling(n,min_periods=n).mean())\n",
    "    nstr=str(n)+'MA'\n",
    "    stock[nstr]=mavg\n",
    "    #sort by descending date \n",
    "    stock=stock.sort_values(by=['date'],ascending=False)\n",
    "    #filter according to input date \n",
    "    stock=stock[(stock['date']<='2019-03-22') & (stock['date']>=date)]\n",
    "    fig, ax = plt.subplots()\n",
    "    #plotting\n",
    "    plt.plot(stock['date'],stock[nstr])\n",
    "    plt.legend()\n",
    "    plt.plot(stock['date'],stock['close'])\n",
    "    plt.legend()\n",
    "    ax.xaxis.set_major_formatter(mdates.DateFormatter(\"%Y-%m-%d\"))\n",
    "    plt.xticks(rotation=90)\n",
    "    plt.title('{:d} day moving average for {:s}'.format(n,symbol))\n",
    "    \n",
    "    "
   ]
  },
  {
   "cell_type": "code",
   "execution_count": 29,
   "metadata": {},
   "outputs": [
    {
     "name": "stderr",
     "output_type": "stream",
     "text": [
      "C:\\Users\\mihir\\Anaconda3\\lib\\site-packages\\pandas\\plotting\\_converter.py:129: FutureWarning: Using an implicitly registered datetime converter for a matplotlib plotting method. The converter was registered by pandas on import. Future versions of pandas will require you to explicitly register matplotlib converters.\n",
      "\n",
      "To register the converters:\n",
      "\t>>> from pandas.plotting import register_matplotlib_converters\n",
      "\t>>> register_matplotlib_converters()\n",
      "  warnings.warn(msg, FutureWarning)\n"
     ]
    },
    {
     "data": {
      "image/png": "[encoded data removed]",
      "text/plain": [
       "<Figure size 432x288 with 1 Axes>"
      ]
     },
     "metadata": {
      "needs_background": "light"
     },
     "output_type": "display_data"
    }
   ],
   "source": [
    "SimpleMA(50,'TSLA','2018-09-15')"
   ]
  },
  {
   "cell_type": "code",
   "execution_count": 30,
   "metadata": {},
   "outputs": [],
   "source": [
    "stock_list=list(set(stocks['company symbol']))"
   ]
  },
  {
   "cell_type": "code",
   "execution_count": 31,
   "metadata": {},
   "outputs": [
    {
     "name": "stderr",
     "output_type": "stream",
     "text": [
      "C:\\Users\\mihir\\Anaconda3\\lib\\site-packages\\matplotlib\\pyplot.py:514: RuntimeWarning: More than 20 figures have been opened. Figures created through the pyplot interface (`matplotlib.pyplot.figure`) are retained until explicitly closed and may consume too much memory. (To control this warning, see the rcParam `figure.max_open_warning`).\n",
      "  max_open_warning, RuntimeWarning)\n",
      "C:\\Users\\mihir\\Anaconda3\\lib\\site-packages\\matplotlib\\pyplot.py:514: RuntimeWarning: More than 20 figures have been opened. Figures created through the pyplot interface (`matplotlib.pyplot.figure`) are retained until explicitly closed and may consume too much memory. (To control this warning, see the rcParam `figure.max_open_warning`).\n",
      "  max_open_warning, RuntimeWarning)\n",
      "C:\\Users\\mihir\\Anaconda3\\lib\\site-packages\\matplotlib\\pyplot.py:514: RuntimeWarning: More than 20 figures have been opened. Figures created through the pyplot interface (`matplotlib.pyplot.figure`) are retained until explicitly closed and may consume too much memory. (To control this warning, see the rcParam `figure.max_open_warning`).\n",
      "  max_open_warning, RuntimeWarning)\n",
      "C:\\Users\\mihir\\Anaconda3\\lib\\site-packages\\matplotlib\\pyplot.py:514: RuntimeWarning: More than 20 figures have been opened. Figures created through the pyplot interface (`matplotlib.pyplot.figure`) are retained until explicitly closed and may consume too much memory. (To control this warning, see the rcParam `figure.max_open_warning`).\n",
      "  max_open_warning, RuntimeWarning)\n",
      "C:\\Users\\mihir\\Anaconda3\\lib\\site-packages\\matplotlib\\pyplot.py:514: RuntimeWarning: More than 20 figures have been opened. Figures created through the pyplot interface (`matplotlib.pyplot.figure`) are retained until explicitly closed and may consume too much memory. (To control this warning, see the rcParam `figure.max_open_warning`).\n",
      "  max_open_warning, RuntimeWarning)\n",
      "C:\\Users\\mihir\\Anaconda3\\lib\\site-packages\\matplotlib\\pyplot.py:514: RuntimeWarning: More than 20 figures have been opened. Figures created through the pyplot interface (`matplotlib.pyplot.figure`) are retained until explicitly closed and may consume too much memory. (To control this warning, see the rcParam `figure.max_open_warning`).\n",
      "  max_open_warning, RuntimeWarning)\n",
      "C:\\Users\\mihir\\Anaconda3\\lib\\site-packages\\matplotlib\\pyplot.py:514: RuntimeWarning: More than 20 figures have been opened. Figures created through the pyplot interface (`matplotlib.pyplot.figure`) are retained until explicitly closed and may consume too much memory. (To control this warning, see the rcParam `figure.max_open_warning`).\n",
      "  max_open_warning, RuntimeWarning)\n",
      "C:\\Users\\mihir\\Anaconda3\\lib\\site-packages\\matplotlib\\pyplot.py:514: RuntimeWarning: More than 20 figures have been opened. Figures created through the pyplot interface (`matplotlib.pyplot.figure`) are retained until explicitly closed and may consume too much memory. (To control this warning, see the rcParam `figure.max_open_warning`).\n",
      "  max_open_warning, RuntimeWarning)\n",
      "C:\\Users\\mihir\\Anaconda3\\lib\\site-packages\\matplotlib\\pyplot.py:514: RuntimeWarning: More than 20 figures have been opened. Figures created through the pyplot interface (`matplotlib.pyplot.figure`) are retained until explicitly closed and may consume too much memory. (To control this warning, see the rcParam `figure.max_open_warning`).\n",
      "  max_open_warning, RuntimeWarning)\n",
      "C:\\Users\\mihir\\Anaconda3\\lib\\site-packages\\matplotlib\\pyplot.py:514: RuntimeWarning: More than 20 figures have been opened. Figures created through the pyplot interface (`matplotlib.pyplot.figure`) are retained until explicitly closed and may consume too much memory. (To control this warning, see the rcParam `figure.max_open_warning`).\n",
      "  max_open_warning, RuntimeWarning)\n",
      "C:\\Users\\mihir\\Anaconda3\\lib\\site-packages\\matplotlib\\pyplot.py:514: RuntimeWarning: More than 20 figures have been opened. Figures created through the pyplot interface (`matplotlib.pyplot.figure`) are retained until explicitly closed and may consume too much memory. (To control this warning, see the rcParam `figure.max_open_warning`).\n",
      "  max_open_warning, RuntimeWarning)\n",
      "C:\\Users\\mihir\\Anaconda3\\lib\\site-packages\\matplotlib\\pyplot.py:514: RuntimeWarning: More than 20 figures have been opened. Figures created through the pyplot interface (`matplotlib.pyplot.figure`) are retained until explicitly closed and may consume too much memory. (To control this warning, see the rcParam `figure.max_open_warning`).\n",
      "  max_open_warning, RuntimeWarning)\n",
      "C:\\Users\\mihir\\Anaconda3\\lib\\site-packages\\matplotlib\\pyplot.py:514: RuntimeWarning: More than 20 figures have been opened. Figures created through the pyplot interface (`matplotlib.pyplot.figure`) are retained until explicitly closed and may consume too much memory. (To control this warning, see the rcParam `figure.max_open_warning`).\n",
      "  max_open_warning, RuntimeWarning)\n",
      "C:\\Users\\mihir\\Anaconda3\\lib\\site-packages\\matplotlib\\pyplot.py:514: RuntimeWarning: More than 20 figures have been opened. Figures created through the pyplot interface (`matplotlib.pyplot.figure`) are retained until explicitly closed and may consume too much memory. (To control this warning, see the rcParam `figure.max_open_warning`).\n",
      "  max_open_warning, RuntimeWarning)\n",
      "C:\\Users\\mihir\\Anaconda3\\lib\\site-packages\\matplotlib\\pyplot.py:514: RuntimeWarning: More than 20 figures have been opened. Figures created through the pyplot interface (`matplotlib.pyplot.figure`) are retained until explicitly closed and may consume too much memory. (To control this warning, see the rcParam `figure.max_open_warning`).\n",
      "  max_open_warning, RuntimeWarning)\n",
      "C:\\Users\\mihir\\Anaconda3\\lib\\site-packages\\matplotlib\\pyplot.py:514: RuntimeWarning: More than 20 figures have been opened. Figures created through the pyplot interface (`matplotlib.pyplot.figure`) are retained until explicitly closed and may consume too much memory. (To control this warning, see the rcParam `figure.max_open_warning`).\n",
      "  max_open_warning, RuntimeWarning)\n",
      "C:\\Users\\mihir\\Anaconda3\\lib\\site-packages\\matplotlib\\pyplot.py:514: RuntimeWarning: More than 20 figures have been opened. Figures created through the pyplot interface (`matplotlib.pyplot.figure`) are retained until explicitly closed and may consume too much memory. (To control this warning, see the rcParam `figure.max_open_warning`).\n",
      "  max_open_warning, RuntimeWarning)\n",
      "C:\\Users\\mihir\\Anaconda3\\lib\\site-packages\\matplotlib\\pyplot.py:514: RuntimeWarning: More than 20 figures have been opened. Figures created through the pyplot interface (`matplotlib.pyplot.figure`) are retained until explicitly closed and may consume too much memory. (To control this warning, see the rcParam `figure.max_open_warning`).\n",
      "  max_open_warning, RuntimeWarning)\n",
      "C:\\Users\\mihir\\Anaconda3\\lib\\site-packages\\matplotlib\\pyplot.py:514: RuntimeWarning: More than 20 figures have been opened. Figures created through the pyplot interface (`matplotlib.pyplot.figure`) are retained until explicitly closed and may consume too much memory. (To control this warning, see the rcParam `figure.max_open_warning`).\n",
      "  max_open_warning, RuntimeWarning)\n",
      "C:\\Users\\mihir\\Anaconda3\\lib\\site-packages\\matplotlib\\pyplot.py:514: RuntimeWarning: More than 20 figures have been opened. Figures created through the pyplot interface (`matplotlib.pyplot.figure`) are retained until explicitly closed and may consume too much memory. (To control this warning, see the rcParam `figure.max_open_warning`).\n",
      "  max_open_warning, RuntimeWarning)\n",
      "C:\\Users\\mihir\\Anaconda3\\lib\\site-packages\\matplotlib\\pyplot.py:514: RuntimeWarning: More than 20 figures have been opened. Figures created through the pyplot interface (`matplotlib.pyplot.figure`) are retained until explicitly closed and may consume too much memory. (To control this warning, see the rcParam `figure.max_open_warning`).\n",
      "  max_open_warning, RuntimeWarning)\n",
      "C:\\Users\\mihir\\Anaconda3\\lib\\site-packages\\matplotlib\\pyplot.py:514: RuntimeWarning: More than 20 figures have been opened. Figures created through the pyplot interface (`matplotlib.pyplot.figure`) are retained until explicitly closed and may consume too much memory. (To control this warning, see the rcParam `figure.max_open_warning`).\n",
      "  max_open_warning, RuntimeWarning)\n"
     ]
    },
    {
     "name": "stderr",
     "output_type": "stream",
     "text": [
      "C:\\Users\\mihir\\Anaconda3\\lib\\site-packages\\matplotlib\\pyplot.py:514: RuntimeWarning: More than 20 figures have been opened. Figures created through the pyplot interface (`matplotlib.pyplot.figure`) are retained until explicitly closed and may consume too much memory. (To control this warning, see the rcParam `figure.max_open_warning`).\n",
      "  max_open_warning, RuntimeWarning)\n",
      "C:\\Users\\mihir\\Anaconda3\\lib\\site-packages\\matplotlib\\pyplot.py:514: RuntimeWarning: More than 20 figures have been opened. Figures created through the pyplot interface (`matplotlib.pyplot.figure`) are retained until explicitly closed and may consume too much memory. (To control this warning, see the rcParam `figure.max_open_warning`).\n",
      "  max_open_warning, RuntimeWarning)\n",
      "C:\\Users\\mihir\\Anaconda3\\lib\\site-packages\\matplotlib\\pyplot.py:514: RuntimeWarning: More than 20 figures have been opened. Figures created through the pyplot interface (`matplotlib.pyplot.figure`) are retained until explicitly closed and may consume too much memory. (To control this warning, see the rcParam `figure.max_open_warning`).\n",
      "  max_open_warning, RuntimeWarning)\n",
      "C:\\Users\\mihir\\Anaconda3\\lib\\site-packages\\matplotlib\\pyplot.py:514: RuntimeWarning: More than 20 figures have been opened. Figures created through the pyplot interface (`matplotlib.pyplot.figure`) are retained until explicitly closed and may consume too much memory. (To control this warning, see the rcParam `figure.max_open_warning`).\n",
      "  max_open_warning, RuntimeWarning)\n",
      "C:\\Users\\mihir\\Anaconda3\\lib\\site-packages\\matplotlib\\pyplot.py:514: RuntimeWarning: More than 20 figures have been opened. Figures created through the pyplot interface (`matplotlib.pyplot.figure`) are retained until explicitly closed and may consume too much memory. (To control this warning, see the rcParam `figure.max_open_warning`).\n",
      "  max_open_warning, RuntimeWarning)\n",
      "C:\\Users\\mihir\\Anaconda3\\lib\\site-packages\\matplotlib\\pyplot.py:514: RuntimeWarning: More than 20 figures have been opened. Figures created through the pyplot interface (`matplotlib.pyplot.figure`) are retained until explicitly closed and may consume too much memory. (To control this warning, see the rcParam `figure.max_open_warning`).\n",
      "  max_open_warning, RuntimeWarning)\n",
      "C:\\Users\\mihir\\Anaconda3\\lib\\site-packages\\matplotlib\\pyplot.py:514: RuntimeWarning: More than 20 figures have been opened. Figures created through the pyplot interface (`matplotlib.pyplot.figure`) are retained until explicitly closed and may consume too much memory. (To control this warning, see the rcParam `figure.max_open_warning`).\n",
      "  max_open_warning, RuntimeWarning)\n"
     ]
    },
    {
     "data": {
      "text/plain": [
       "<Figure size 432x288 with 0 Axes>"
      ]
     },
     "metadata": {},
     "output_type": "display_data"
    },
    {
     "data": {
      "text/plain": [
       "<Figure size 432x288 with 0 Axes>"
      ]
     },
     "metadata": {},
     "output_type": "display_data"
    },
    {
     "data": {
      "text/plain": [
       "<Figure size 432x288 with 0 Axes>"
      ]
     },
     "metadata": {},
     "output_type": "display_data"
    },
    {
     "data": {
      "text/plain": [
       "<Figure size 432x288 with 0 Axes>"
      ]
     },
     "metadata": {},
     "output_type": "display_data"
    },
    {
     "data": {
      "text/plain": [
       "<Figure size 432x288 with 0 Axes>"
      ]
     },
     "metadata": {},
     "output_type": "display_data"
    },
    {
     "data": {
      "text/plain": [
       "<Figure size 432x288 with 0 Axes>"
      ]
     },
     "metadata": {},
     "output_type": "display_data"
    },
    {
     "data": {
      "text/plain": [
       "<Figure size 432x288 with 0 Axes>"
      ]
     },
     "metadata": {},
     "output_type": "display_data"
    },
    {
     "data": {
      "text/plain": [
       "<Figure size 432x288 with 0 Axes>"
      ]
     },
     "metadata": {},
     "output_type": "display_data"
    },
    {
     "data": {
      "text/plain": [
       "<Figure size 432x288 with 0 Axes>"
      ]
     },
     "metadata": {},
     "output_type": "display_data"
    },
    {
     "data": {
      "text/plain": [
       "<Figure size 432x288 with 0 Axes>"
      ]
     },
     "metadata": {},
     "output_type": "display_data"
    },
    {
     "data": {
      "text/plain": [
       "<Figure size 432x288 with 0 Axes>"
      ]
     },
     "metadata": {},
     "output_type": "display_data"
    },
    {
     "data": {
      "text/plain": [
       "<Figure size 432x288 with 0 Axes>"
      ]
     },
     "metadata": {},
     "output_type": "display_data"
    },
    {
     "data": {
      "text/plain": [
       "<Figure size 432x288 with 0 Axes>"
      ]
     },
     "metadata": {},
     "output_type": "display_data"
    },
    {
     "data": {
      "text/plain": [
       "<Figure size 432x288 with 0 Axes>"
      ]
     },
     "metadata": {},
     "output_type": "display_data"
    },
    {
     "data": {
      "text/plain": [
       "<Figure size 432x288 with 0 Axes>"
      ]
     },
     "metadata": {},
     "output_type": "display_data"
    },
    {
     "data": {
      "text/plain": [
       "<Figure size 432x288 with 0 Axes>"
      ]
     },
     "metadata": {},
     "output_type": "display_data"
    },
    {
     "data": {
      "text/plain": [
       "<Figure size 432x288 with 0 Axes>"
      ]
     },
     "metadata": {},
     "output_type": "display_data"
    },
    {
     "data": {
      "text/plain": [
       "<Figure size 432x288 with 0 Axes>"
      ]
     },
     "metadata": {},
     "output_type": "display_data"
    },
    {
     "data": {
      "text/plain": [
       "<Figure size 432x288 with 0 Axes>"
      ]
     },
     "metadata": {},
     "output_type": "display_data"
    },
    {
     "data": {
      "text/plain": [
       "<Figure size 432x288 with 0 Axes>"
      ]
     },
     "metadata": {},
     "output_type": "display_data"
    },
    {
     "data": {
      "text/plain": [
       "<Figure size 432x288 with 0 Axes>"
      ]
     },
     "metadata": {},
     "output_type": "display_data"
    },
    {
     "data": {
      "text/plain": [
       "<Figure size 432x288 with 0 Axes>"
      ]
     },
     "metadata": {},
     "output_type": "display_data"
    },
    {
     "data": {
      "text/plain": [
       "<Figure size 432x288 with 0 Axes>"
      ]
     },
     "metadata": {},
     "output_type": "display_data"
    },
    {
     "data": {
      "text/plain": [
       "<Figure size 432x288 with 0 Axes>"
      ]
     },
     "metadata": {},
     "output_type": "display_data"
    },
    {
     "data": {
      "text/plain": [
       "<Figure size 432x288 with 0 Axes>"
      ]
     },
     "metadata": {},
     "output_type": "display_data"
    },
    {
     "data": {
      "text/plain": [
       "<Figure size 432x288 with 0 Axes>"
      ]
     },
     "metadata": {},
     "output_type": "display_data"
    },
    {
     "data": {
      "text/plain": [
       "<Figure size 432x288 with 0 Axes>"
      ]
     },
     "metadata": {},
     "output_type": "display_data"
    },
    {
     "data": {
      "text/plain": [
       "<Figure size 432x288 with 0 Axes>"
      ]
     },
     "metadata": {},
     "output_type": "display_data"
    },
    {
     "data": {
      "text/plain": [
       "<Figure size 432x288 with 0 Axes>"
      ]
     },
     "metadata": {},
     "output_type": "display_data"
    },
    {
     "data": {
      "text/plain": [
       "<Figure size 432x288 with 0 Axes>"
      ]
     },
     "metadata": {},
     "output_type": "display_data"
    },
    {
     "data": {
      "text/plain": [
       "<Figure size 432x288 with 0 Axes>"
      ]
     },
     "metadata": {},
     "output_type": "display_data"
    },
    {
     "data": {
      "text/plain": [
       "<Figure size 432x288 with 0 Axes>"
      ]
     },
     "metadata": {},
     "output_type": "display_data"
    },
    {
     "data": {
      "text/plain": [
       "<Figure size 432x288 with 0 Axes>"
      ]
     },
     "metadata": {},
     "output_type": "display_data"
    },
    {
     "data": {
      "text/plain": [
       "<Figure size 432x288 with 0 Axes>"
      ]
     },
     "metadata": {},
     "output_type": "display_data"
    },
    {
     "data": {
      "text/plain": [
       "<Figure size 432x288 with 0 Axes>"
      ]
     },
     "metadata": {},
     "output_type": "display_data"
    },
    {
     "data": {
      "text/plain": [
       "<Figure size 432x288 with 0 Axes>"
      ]
     },
     "metadata": {},
     "output_type": "display_data"
    },
    {
     "data": {
      "text/plain": [
       "<Figure size 432x288 with 0 Axes>"
      ]
     },
     "metadata": {},
     "output_type": "display_data"
    },
    {
     "data": {
      "text/plain": [
       "<Figure size 432x288 with 0 Axes>"
      ]
     },
     "metadata": {},
     "output_type": "display_data"
    },
    {
     "data": {
      "text/plain": [
       "<Figure size 432x288 with 0 Axes>"
      ]
     },
     "metadata": {},
     "output_type": "display_data"
    },
    {
     "data": {
      "text/plain": [
       "<Figure size 432x288 with 0 Axes>"
      ]
     },
     "metadata": {},
     "output_type": "display_data"
    },
    {
     "data": {
      "text/plain": [
       "<Figure size 432x288 with 0 Axes>"
      ]
     },
     "metadata": {},
     "output_type": "display_data"
    },
    {
     "data": {
      "text/plain": [
       "<Figure size 432x288 with 0 Axes>"
      ]
     },
     "metadata": {},
     "output_type": "display_data"
    },
    {
     "data": {
      "text/plain": [
       "<Figure size 432x288 with 0 Axes>"
      ]
     },
     "metadata": {},
     "output_type": "display_data"
    },
    {
     "data": {
      "text/plain": [
       "<Figure size 432x288 with 0 Axes>"
      ]
     },
     "metadata": {},
     "output_type": "display_data"
    },
    {
     "data": {
      "text/plain": [
       "<Figure size 432x288 with 0 Axes>"
      ]
     },
     "metadata": {},
     "output_type": "display_data"
    },
    {
     "data": {
      "text/plain": [
       "<Figure size 432x288 with 0 Axes>"
      ]
     },
     "metadata": {},
     "output_type": "display_data"
    },
    {
     "data": {
      "text/plain": [
       "<Figure size 432x288 with 0 Axes>"
      ]
     },
     "metadata": {},
     "output_type": "display_data"
    },
    {
     "data": {
      "text/plain": [
       "<Figure size 432x288 with 0 Axes>"
      ]
     },
     "metadata": {},
     "output_type": "display_data"
    },
    {
     "data": {
      "text/plain": [
       "<Figure size 432x288 with 0 Axes>"
      ]
     },
     "metadata": {},
     "output_type": "display_data"
    }
   ],
   "source": [
    "##50SMA for top 50 companies from 2018 and saved to disk \n",
    "for symbol in stock_list:\n",
    "    stock=stocks[stocks['company symbol']==symbol]\n",
    "    stock=stock.sort_values(by=['date'],ascending=True)\n",
    "    mavg=pd.Series(stock['close'].rolling(50,min_periods=50).mean())\n",
    "    nstr=str(50)+'MA'\n",
    "    stock[nstr]=mavg\n",
    "    stock=stock.sort_values(by=['date'],ascending=False)\n",
    "    stock=stock[(stock['date']<='2019-03-22') & (stock['date']>='2018-01-01')]\n",
    "    fig, ax = plt.subplots()\n",
    "    plt.plot(stock['date'],stock[nstr])\n",
    "    plt.legend()\n",
    "    plt.plot(stock['date'],stock['close'])\n",
    "    plt.legend()\n",
    "    ax.xaxis.set_major_formatter(mdates.DateFormatter(\"%Y-%m-%d\"))\n",
    "    plt.xticks(rotation=90)\n",
    "    plt.title('50 day moving average for {:s}'.format(symbol))\n",
    "    plt.savefig('C:\\\\Users\\\\mihir\\\\Desktop\\\\IST652\\\\project\\\\SMA50\\\\50SMA_{:s}'.format(symbol))\n",
    "    plt.clf()"
   ]
  },
  {
   "cell_type": "code",
   "execution_count": 32,
   "metadata": {},
   "outputs": [],
   "source": [
    "#Exponential Moving Average\n",
    "%matplotlib inline\n",
    "import matplotlib.dates as mdates\n",
    "def ExpMA(n,symbol,date):\n",
    "    stock=stocks[stocks['company symbol']==symbol]\n",
    "    stock=stock.sort_values(by=['date'],ascending=True)\n",
    "    mavg=pd.Series(stock['close'].ewm(span=n,min_periods=n).mean())\n",
    "    nstr=str(n)+'MA'\n",
    "    stock[nstr]=mavg\n",
    "    stock=stock.sort_values(by=['date'],ascending=False)\n",
    "    stock=stock[(stock['date']<='2019-03-22') & (stock['date']>=date)]\n",
    "    fig, ax = plt.subplots()\n",
    "    plt.plot(stock['date'],stock[nstr])\n",
    "    plt.legend()\n",
    "    plt.plot(stock['date'],stock['close'])\n",
    "    plt.legend()\n",
    "    ax.xaxis.set_major_formatter(mdates.DateFormatter(\"%Y-%m-%d\"))\n",
    "    plt.xticks(rotation=90)\n",
    "    plt.title('{:d} day exponential moving average for {:s}'.format(n,symbol))\n",
    "    \n",
    "    \n"
   ]
  },
  {
   "cell_type": "code",
   "execution_count": 33,
   "metadata": {},
   "outputs": [
    {
     "data": {
      "image/png": "[encoded data removed]",
      "text/plain": [
       "<Figure size 432x288 with 1 Axes>"
      ]
     },
     "metadata": {
      "needs_background": "light"
     },
     "output_type": "display_data"
    }
   ],
   "source": [
    "ExpMA(50,'TSLA','2018-09-15')"
   ]
  },
  {
   "cell_type": "code",
   "execution_count": 34,
   "metadata": {},
   "outputs": [
    {
     "data": {
      "image/png": "[encoded data removed]",
      "text/plain": [
       "<Figure size 432x288 with 1 Axes>"
      ]
     },
     "metadata": {
      "needs_background": "light"
     },
     "output_type": "display_data"
    }
   ],
   "source": [
    "SimpleMA(50,'TSLA','2018-09-15')"
   ]
  },
  {
   "cell_type": "code",
   "execution_count": 35,
   "metadata": {},
   "outputs": [],
   "source": [
    "#Moving average convergence Divergence(MACD)\n",
    "def MACD(symbol,date):\n",
    "    #filter based on symbol \n",
    "    stock=stocks[stocks['company symbol']==symbol]\n",
    "    #sort ascending \n",
    "    stock=stock.sort_values(by=['date'],ascending=True)\n",
    "    #calculate 12 day and 26 day EMA \n",
    "    mavg12=pd.Series(stock['close'].ewm(span=12,min_periods=12).mean())\n",
    "    mavg26=pd.Series(stock['close'].ewm(span=26,min_periods=26).mean())\n",
    "    #get MACD line \n",
    "    stock['MACD']=mavg12-mavg26\n",
    "    #get Signal line \n",
    "    stock['signal']=pd.Series(stock['MACD'].ewm(span=9,min_periods=9).mean())\n",
    "    stock=stock.sort_values(by=['date'],ascending=False)\n",
    "    stock=stock[(stock['date']<='2019-03-22') & (stock['date']>=date)]\n",
    "    #plotting \n",
    "    fig, ax = plt.subplots()\n",
    "    plt.subplot(2, 1, 1)\n",
    "    plt.plot(stock['date'],stock['close'])\n",
    "    ax.xaxis.set_visible(False)\n",
    "    plt.title('MACD Signal for {:s}'.format(symbol))\n",
    "    plt.legend()\n",
    "    plt.subplot(2, 1, 2)\n",
    "    plt.plot(stock['date'],stock['MACD'])\n",
    "    plt.legend()\n",
    "    plt.plot(stock['date'],stock['signal'])\n",
    "    plt.legend()\n",
    "    ax.xaxis.set_major_formatter(mdates.DateFormatter(\"%Y-%m-%d\"))\n",
    "    plt.xticks(rotation=90)\n",
    "    \n",
    "    \n",
    "    "
   ]
  },
  {
   "cell_type": "code",
   "execution_count": 36,
   "metadata": {},
   "outputs": [
    {
     "data": {
      "image/png": "[encoded data removed]",
      "text/plain": [
       "<Figure size 432x288 with 2 Axes>"
      ]
     },
     "metadata": {
      "needs_background": "light"
     },
     "output_type": "display_data"
    }
   ],
   "source": [
    "MACD('TSLA','2018-09-15')"
   ]
  },
  {
   "cell_type": "code",
   "execution_count": 37,
   "metadata": {},
   "outputs": [],
   "source": [
    "#RSI Relative Stregth Index "
   ]
  },
  {
   "cell_type": "code",
   "execution_count": 38,
   "metadata": {},
   "outputs": [],
   "source": [
    "import matplotlib.dates as mdates\n",
    "def RSI(symbol,date):\n",
    "     #filter based on symbol \n",
    "    stock=stocks[stocks['company symbol']==symbol]\n",
    "    stock=stock.sort_values(by=['date'],ascending=True)\n",
    "    #calculate the difference between close prices \n",
    "    diff=stock['close'].diff()\n",
    "    #Get the gains and losses \n",
    "    Up= diff.copy()\n",
    "    Down= diff.copy()\n",
    "    #set Up=0 for down and Down=0 for Up\n",
    "    Up[Up<0]=0\n",
    "    Down[Down>0]=0\n",
    "    stock['Up']=Up\n",
    "    stock['Down']=Down\n",
    "    #get the weighted means \n",
    "    Up=pd.Series(stock['Up'].ewm(span=14,min_periods=14).mean())\n",
    "    Down=pd.Series(stock['Down'].ewm(span=14,min_periods=14).mean().abs())\n",
    "    #Calculate Relative strength \n",
    "    RS=Up/Down\n",
    "    #calculate RSI\n",
    "    stock['RSI']=100.0-(100.0/(1+RS))\n",
    "    stock=stock.sort_values(by=['date'],ascending=False)\n",
    "    stock=stock[(stock['date']<='2019-03-22') & (stock['date']>=date)]\n",
    "    \n",
    "    #PLot RSI\n",
    "    fig, ax = plt.subplots()\n",
    "    plt.subplot(2, 1, 1)\n",
    "    plt.plot(stock['date'],stock['close'])\n",
    "    ax.xaxis.set_major_formatter(mdates.DateFormatter(\"%Y-%m-%d\"))\n",
    "    plt.xticks(rotation=90)\n",
    "    plt.title('Relative Strength Index {:s}'.format(symbol))\n",
    "    plt.legend()\n",
    "    plt.subplot(2, 1, 2)\n",
    "    plt.plot(stock['date'],stock['RSI'],color='g')\n",
    "    ax.xaxis.set_major_formatter(mdates.DateFormatter(\"%Y-%m-%d\"))\n",
    "    plt.legend()\n",
    "    #overbought\n",
    "    plt.hlines(y=70,xmin=min(stock['date']),xmax=max(stock['date']), linestyles='dashed',label='Positive Sentiment',color='r')\n",
    "    #oversold \n",
    "    plt.hlines(y=30,xmin=min(stock['date']),xmax=max(stock['date']), linestyles='dashed',label='Positive Sentiment',color='r')\n",
    "    plt.xticks(rotation=90)\n",
    "    plt.show()\n",
    "   \n",
    "    "
   ]
  },
  {
   "cell_type": "code",
   "execution_count": 39,
   "metadata": {},
   "outputs": [
    {
     "data": {
      "image/png": "[encoded data removed]",
      "text/plain": [
       "<Figure size 432x288 with 2 Axes>"
      ]
     },
     "metadata": {
      "needs_background": "light"
     },
     "output_type": "display_data"
    }
   ],
   "source": [
    "RSI('TSLA','2018-09-15')"
   ]
  },
  {
   "cell_type": "code",
   "execution_count": 40,
   "metadata": {},
   "outputs": [
    {
     "data": {
      "image/png": "[encoded data removed]",
      "text/plain": [
       "<Figure size 432x288 with 2 Axes>"
      ]
     },
     "metadata": {
      "needs_background": "light"
     },
     "output_type": "display_data"
    }
   ],
   "source": [
    "MACD('AAPL','2018-12-15')"
   ]
  },
  {
   "cell_type": "code",
   "execution_count": 5,
   "metadata": {},
   "outputs": [],
   "source": [
    "#Trading Strategy \n",
    "#buy and sell calls using macd and volume\n",
    "def generate_calls(symbol,date):\n",
    "    #generate MACD signals \n",
    "    stock=stocks[stocks['company symbol']==symbol]\n",
    "    stock=stock.sort_values(by=['date'],ascending=True)\n",
    "    mavg12=pd.Series(stock['close'].ewm(span=12,min_periods=12).mean())\n",
    "    mavg26=pd.Series(stock['close'].ewm(span=26,min_periods=26).mean())\n",
    "\n",
    "    stock['MACD']=mavg12-mavg26\n",
    "    stock['signal']=pd.Series(stock['MACD'].ewm(span=9,min_periods=9).mean())\n",
    "    stock=stock.sort_values(by=['date'],ascending=False)\n",
    "    stock=stock[(stock['date']<='2019-03-22') & (stock['date']>=date)]\n",
    "    #as we need at least 3 values for the avg volume we set the firts 3 to Not available\n",
    "    position=[\"Not Available\",\"Not Available\",\"Not Available\"]\n",
    "    macd=stock['MACD'].tolist()\n",
    "    signal=stock['signal'].tolist()\n",
    "    #reverse as indicator works linear in date and not backwards\n",
    "    macd=macd[::-1]\n",
    "    signal=signal[::-1]\n",
    "    #volume \n",
    "    volume=stock['volume'].tolist()\n",
    "    volume=volume[::-1]\n",
    "    \n",
    "    for i in range(3,len(macd)):\n",
    "        #avg volume for last 3 days\n",
    "        avg=(volume[i-1]+volume[i-2]+volume[i-3])/3\n",
    "        \n",
    "        #MACD crosses signal line from below BUY\n",
    "        if macd[i] > signal[i] and macd[i-1] <= signal[i-1] and volume[i]> avg:\n",
    "            position.append(\"Buy\")\n",
    "        #MACD crosses signal line from above SELL\n",
    "        elif macd[i] < signal[i] and macd[i-1] >= signal[i-1] and volume[i]> avg:\n",
    "            position.append(\"Sell\")\n",
    "        else:\n",
    "            #dont do anything\n",
    "            position.append(\"Hold\")\n",
    "    position=position[::-1]\n",
    "    stock[\"call\"]=position\n",
    "    stock=stock[['date','close','company symbol','call']]\n",
    "    return stock"
   ]
  },
  {
   "cell_type": "code",
   "execution_count": 42,
   "metadata": {},
   "outputs": [
    {
     "data": {
      "text/html": [
       "<div>\n",
       "<style scoped>\n",
       "    .dataframe tbody tr th:only-of-type {\n",
       "        vertical-align: middle;\n",
       "    }\n",
       "\n",
       "    .dataframe tbody tr th {\n",
       "        vertical-align: top;\n",
       "    }\n",
       "\n",
       "    .dataframe thead th {\n",
       "        text-align: right;\n",
       "    }\n",
       "</style>\n",
       "<table border=\"1\" class=\"dataframe\">\n",
       "  <thead>\n",
       "    <tr style=\"text-align: right;\">\n",
       "      <th></th>\n",
       "      <th>date</th>\n",
       "      <th>close</th>\n",
       "      <th>company symbol</th>\n",
       "      <th>call</th>\n",
       "    </tr>\n",
       "  </thead>\n",
       "  <tbody>\n",
       "    <tr>\n",
       "      <th>16017</th>\n",
       "      <td>2019-03-22</td>\n",
       "      <td>1207.650000</td>\n",
       "      <td>GOOGL</td>\n",
       "      <td>Hold</td>\n",
       "    </tr>\n",
       "    <tr>\n",
       "      <th>16018</th>\n",
       "      <td>2019-03-21</td>\n",
       "      <td>1236.130000</td>\n",
       "      <td>GOOGL</td>\n",
       "      <td>Hold</td>\n",
       "    </tr>\n",
       "    <tr>\n",
       "      <th>16019</th>\n",
       "      <td>2019-03-20</td>\n",
       "      <td>1226.430000</td>\n",
       "      <td>GOOGL</td>\n",
       "      <td>Hold</td>\n",
       "    </tr>\n",
       "    <tr>\n",
       "      <th>16020</th>\n",
       "      <td>2019-03-19</td>\n",
       "      <td>1202.460000</td>\n",
       "      <td>GOOGL</td>\n",
       "      <td>Hold</td>\n",
       "    </tr>\n",
       "    <tr>\n",
       "      <th>16021</th>\n",
       "      <td>2019-03-18</td>\n",
       "      <td>1188.550000</td>\n",
       "      <td>GOOGL</td>\n",
       "      <td>Hold</td>\n",
       "    </tr>\n",
       "    <tr>\n",
       "      <th>16022</th>\n",
       "      <td>2019-03-15</td>\n",
       "      <td>1190.300000</td>\n",
       "      <td>GOOGL</td>\n",
       "      <td>Hold</td>\n",
       "    </tr>\n",
       "    <tr>\n",
       "      <th>16023</th>\n",
       "      <td>2019-03-14</td>\n",
       "      <td>1192.530000</td>\n",
       "      <td>GOOGL</td>\n",
       "      <td>Hold</td>\n",
       "    </tr>\n",
       "    <tr>\n",
       "      <th>16024</th>\n",
       "      <td>2019-03-13</td>\n",
       "      <td>1199.060000</td>\n",
       "      <td>GOOGL</td>\n",
       "      <td>Hold</td>\n",
       "    </tr>\n",
       "    <tr>\n",
       "      <th>16025</th>\n",
       "      <td>2019-03-12</td>\n",
       "      <td>1197.250000</td>\n",
       "      <td>GOOGL</td>\n",
       "      <td>Hold</td>\n",
       "    </tr>\n",
       "    <tr>\n",
       "      <th>16026</th>\n",
       "      <td>2019-03-11</td>\n",
       "      <td>1179.260000</td>\n",
       "      <td>GOOGL</td>\n",
       "      <td>Hold</td>\n",
       "    </tr>\n",
       "    <tr>\n",
       "      <th>16027</th>\n",
       "      <td>2019-03-08</td>\n",
       "      <td>1149.970000</td>\n",
       "      <td>GOOGL</td>\n",
       "      <td>Hold</td>\n",
       "    </tr>\n",
       "    <tr>\n",
       "      <th>16028</th>\n",
       "      <td>2019-03-07</td>\n",
       "      <td>1150.850000</td>\n",
       "      <td>GOOGL</td>\n",
       "      <td>Hold</td>\n",
       "    </tr>\n",
       "    <tr>\n",
       "      <th>16029</th>\n",
       "      <td>2019-03-06</td>\n",
       "      <td>1164.940000</td>\n",
       "      <td>GOOGL</td>\n",
       "      <td>Hold</td>\n",
       "    </tr>\n",
       "    <tr>\n",
       "      <th>16030</th>\n",
       "      <td>2019-03-05</td>\n",
       "      <td>1169.190000</td>\n",
       "      <td>GOOGL</td>\n",
       "      <td>Hold</td>\n",
       "    </tr>\n",
       "    <tr>\n",
       "      <th>16031</th>\n",
       "      <td>2019-03-04</td>\n",
       "      <td>1153.420000</td>\n",
       "      <td>GOOGL</td>\n",
       "      <td>Hold</td>\n",
       "    </tr>\n",
       "    <tr>\n",
       "      <th>16032</th>\n",
       "      <td>2019-03-01</td>\n",
       "      <td>1148.520000</td>\n",
       "      <td>GOOGL</td>\n",
       "      <td>Buy</td>\n",
       "    </tr>\n",
       "    <tr>\n",
       "      <th>16033</th>\n",
       "      <td>2019-02-28</td>\n",
       "      <td>1126.550000</td>\n",
       "      <td>GOOGL</td>\n",
       "      <td>Hold</td>\n",
       "    </tr>\n",
       "    <tr>\n",
       "      <th>16034</th>\n",
       "      <td>2019-02-27</td>\n",
       "      <td>1122.890000</td>\n",
       "      <td>GOOGL</td>\n",
       "      <td>Hold</td>\n",
       "    </tr>\n",
       "    <tr>\n",
       "      <th>16035</th>\n",
       "      <td>2019-02-26</td>\n",
       "      <td>1122.010000</td>\n",
       "      <td>GOOGL</td>\n",
       "      <td>Hold</td>\n",
       "    </tr>\n",
       "    <tr>\n",
       "      <th>16036</th>\n",
       "      <td>2019-02-25</td>\n",
       "      <td>1117.330000</td>\n",
       "      <td>GOOGL</td>\n",
       "      <td>Hold</td>\n",
       "    </tr>\n",
       "    <tr>\n",
       "      <th>16037</th>\n",
       "      <td>2019-02-22</td>\n",
       "      <td>1116.560000</td>\n",
       "      <td>GOOGL</td>\n",
       "      <td>Hold</td>\n",
       "    </tr>\n",
       "    <tr>\n",
       "      <th>16038</th>\n",
       "      <td>2019-02-21</td>\n",
       "      <td>1104.210000</td>\n",
       "      <td>GOOGL</td>\n",
       "      <td>Hold</td>\n",
       "    </tr>\n",
       "    <tr>\n",
       "      <th>16039</th>\n",
       "      <td>2019-02-20</td>\n",
       "      <td>1120.590000</td>\n",
       "      <td>GOOGL</td>\n",
       "      <td>Hold</td>\n",
       "    </tr>\n",
       "    <tr>\n",
       "      <th>16040</th>\n",
       "      <td>2019-02-19</td>\n",
       "      <td>1126.510000</td>\n",
       "      <td>GOOGL</td>\n",
       "      <td>Hold</td>\n",
       "    </tr>\n",
       "    <tr>\n",
       "      <th>16041</th>\n",
       "      <td>2019-02-15</td>\n",
       "      <td>1119.630000</td>\n",
       "      <td>GOOGL</td>\n",
       "      <td>Hold</td>\n",
       "    </tr>\n",
       "    <tr>\n",
       "      <th>16042</th>\n",
       "      <td>2019-02-14</td>\n",
       "      <td>1129.200000</td>\n",
       "      <td>GOOGL</td>\n",
       "      <td>Hold</td>\n",
       "    </tr>\n",
       "    <tr>\n",
       "      <th>16043</th>\n",
       "      <td>2019-02-13</td>\n",
       "      <td>1128.630000</td>\n",
       "      <td>GOOGL</td>\n",
       "      <td>Buy</td>\n",
       "    </tr>\n",
       "    <tr>\n",
       "      <th>16044</th>\n",
       "      <td>2019-02-12</td>\n",
       "      <td>1127.580000</td>\n",
       "      <td>GOOGL</td>\n",
       "      <td>Hold</td>\n",
       "    </tr>\n",
       "    <tr>\n",
       "      <th>16045</th>\n",
       "      <td>2019-02-11</td>\n",
       "      <td>1102.120000</td>\n",
       "      <td>GOOGL</td>\n",
       "      <td>Hold</td>\n",
       "    </tr>\n",
       "    <tr>\n",
       "      <th>16046</th>\n",
       "      <td>2019-02-08</td>\n",
       "      <td>1102.380000</td>\n",
       "      <td>GOOGL</td>\n",
       "      <td>Hold</td>\n",
       "    </tr>\n",
       "    <tr>\n",
       "      <th>...</th>\n",
       "      <td>...</td>\n",
       "      <td>...</td>\n",
       "      <td>...</td>\n",
       "      <td>...</td>\n",
       "    </tr>\n",
       "    <tr>\n",
       "      <th>16285</th>\n",
       "      <td>2018-02-27</td>\n",
       "      <td>1117.510000</td>\n",
       "      <td>GOOGL</td>\n",
       "      <td>Hold</td>\n",
       "    </tr>\n",
       "    <tr>\n",
       "      <th>16286</th>\n",
       "      <td>2018-02-26</td>\n",
       "      <td>1143.700000</td>\n",
       "      <td>GOOGL</td>\n",
       "      <td>Hold</td>\n",
       "    </tr>\n",
       "    <tr>\n",
       "      <th>16287</th>\n",
       "      <td>2018-02-23</td>\n",
       "      <td>1128.090000</td>\n",
       "      <td>GOOGL</td>\n",
       "      <td>Hold</td>\n",
       "    </tr>\n",
       "    <tr>\n",
       "      <th>16288</th>\n",
       "      <td>2018-02-22</td>\n",
       "      <td>1109.900000</td>\n",
       "      <td>GOOGL</td>\n",
       "      <td>Hold</td>\n",
       "    </tr>\n",
       "    <tr>\n",
       "      <th>16289</th>\n",
       "      <td>2018-02-21</td>\n",
       "      <td>1113.750000</td>\n",
       "      <td>GOOGL</td>\n",
       "      <td>Buy</td>\n",
       "    </tr>\n",
       "    <tr>\n",
       "      <th>16290</th>\n",
       "      <td>2018-02-20</td>\n",
       "      <td>1103.590000</td>\n",
       "      <td>GOOGL</td>\n",
       "      <td>Hold</td>\n",
       "    </tr>\n",
       "    <tr>\n",
       "      <th>16291</th>\n",
       "      <td>2018-02-16</td>\n",
       "      <td>1095.500000</td>\n",
       "      <td>GOOGL</td>\n",
       "      <td>Hold</td>\n",
       "    </tr>\n",
       "    <tr>\n",
       "      <th>16292</th>\n",
       "      <td>2018-02-15</td>\n",
       "      <td>1091.360000</td>\n",
       "      <td>GOOGL</td>\n",
       "      <td>Hold</td>\n",
       "    </tr>\n",
       "    <tr>\n",
       "      <th>16293</th>\n",
       "      <td>2018-02-14</td>\n",
       "      <td>1072.700000</td>\n",
       "      <td>GOOGL</td>\n",
       "      <td>Hold</td>\n",
       "    </tr>\n",
       "    <tr>\n",
       "      <th>16294</th>\n",
       "      <td>2018-02-13</td>\n",
       "      <td>1054.140000</td>\n",
       "      <td>GOOGL</td>\n",
       "      <td>Hold</td>\n",
       "    </tr>\n",
       "    <tr>\n",
       "      <th>16295</th>\n",
       "      <td>2018-02-12</td>\n",
       "      <td>1054.560000</td>\n",
       "      <td>GOOGL</td>\n",
       "      <td>Hold</td>\n",
       "    </tr>\n",
       "    <tr>\n",
       "      <th>16296</th>\n",
       "      <td>2018-02-09</td>\n",
       "      <td>1046.270000</td>\n",
       "      <td>GOOGL</td>\n",
       "      <td>Hold</td>\n",
       "    </tr>\n",
       "    <tr>\n",
       "      <th>16297</th>\n",
       "      <td>2018-02-08</td>\n",
       "      <td>1007.710000</td>\n",
       "      <td>GOOGL</td>\n",
       "      <td>Hold</td>\n",
       "    </tr>\n",
       "    <tr>\n",
       "      <th>16298</th>\n",
       "      <td>2018-02-07</td>\n",
       "      <td>1055.410000</td>\n",
       "      <td>GOOGL</td>\n",
       "      <td>Hold</td>\n",
       "    </tr>\n",
       "    <tr>\n",
       "      <th>16299</th>\n",
       "      <td>2018-02-06</td>\n",
       "      <td>1084.430000</td>\n",
       "      <td>GOOGL</td>\n",
       "      <td>Hold</td>\n",
       "    </tr>\n",
       "    <tr>\n",
       "      <th>16300</th>\n",
       "      <td>2018-02-05</td>\n",
       "      <td>1062.390000</td>\n",
       "      <td>GOOGL</td>\n",
       "      <td>Hold</td>\n",
       "    </tr>\n",
       "    <tr>\n",
       "      <th>16301</th>\n",
       "      <td>2018-02-02</td>\n",
       "      <td>1119.200000</td>\n",
       "      <td>GOOGL</td>\n",
       "      <td>Sell</td>\n",
       "    </tr>\n",
       "    <tr>\n",
       "      <th>16302</th>\n",
       "      <td>2018-02-01</td>\n",
       "      <td>1181.590000</td>\n",
       "      <td>GOOGL</td>\n",
       "      <td>Hold</td>\n",
       "    </tr>\n",
       "    <tr>\n",
       "      <th>16303</th>\n",
       "      <td>2018-01-31</td>\n",
       "      <td>1182.220000</td>\n",
       "      <td>GOOGL</td>\n",
       "      <td>Hold</td>\n",
       "    </tr>\n",
       "    <tr>\n",
       "      <th>16304</th>\n",
       "      <td>2018-01-30</td>\n",
       "      <td>1177.370000</td>\n",
       "      <td>GOOGL</td>\n",
       "      <td>Hold</td>\n",
       "    </tr>\n",
       "    <tr>\n",
       "      <th>16305</th>\n",
       "      <td>2018-01-29</td>\n",
       "      <td>1186.480000</td>\n",
       "      <td>GOOGL</td>\n",
       "      <td>Hold</td>\n",
       "    </tr>\n",
       "    <tr>\n",
       "      <th>16306</th>\n",
       "      <td>2018-01-26</td>\n",
       "      <td>1187.560000</td>\n",
       "      <td>GOOGL</td>\n",
       "      <td>Hold</td>\n",
       "    </tr>\n",
       "    <tr>\n",
       "      <th>16307</th>\n",
       "      <td>2018-01-25</td>\n",
       "      <td>1182.140000</td>\n",
       "      <td>GOOGL</td>\n",
       "      <td>Hold</td>\n",
       "    </tr>\n",
       "    <tr>\n",
       "      <th>16308</th>\n",
       "      <td>2018-01-24</td>\n",
       "      <td>1171.290000</td>\n",
       "      <td>GOOGL</td>\n",
       "      <td>Hold</td>\n",
       "    </tr>\n",
       "    <tr>\n",
       "      <th>16309</th>\n",
       "      <td>2018-01-23</td>\n",
       "      <td>1176.170000</td>\n",
       "      <td>GOOGL</td>\n",
       "      <td>Hold</td>\n",
       "    </tr>\n",
       "    <tr>\n",
       "      <th>16310</th>\n",
       "      <td>2018-01-22</td>\n",
       "      <td>1164.160000</td>\n",
       "      <td>GOOGL</td>\n",
       "      <td>Hold</td>\n",
       "    </tr>\n",
       "    <tr>\n",
       "      <th>16311</th>\n",
       "      <td>2018-01-19</td>\n",
       "      <td>1143.500000</td>\n",
       "      <td>GOOGL</td>\n",
       "      <td>Hold</td>\n",
       "    </tr>\n",
       "    <tr>\n",
       "      <th>16312</th>\n",
       "      <td>2018-01-18</td>\n",
       "      <td>1135.970000</td>\n",
       "      <td>GOOGL</td>\n",
       "      <td>Not Available</td>\n",
       "    </tr>\n",
       "    <tr>\n",
       "      <th>16313</th>\n",
       "      <td>2018-01-17</td>\n",
       "      <td>1139.100000</td>\n",
       "      <td>GOOGL</td>\n",
       "      <td>Not Available</td>\n",
       "    </tr>\n",
       "    <tr>\n",
       "      <th>16314</th>\n",
       "      <td>2018-01-16</td>\n",
       "      <td>1130.700000</td>\n",
       "      <td>GOOGL</td>\n",
       "      <td>Not Available</td>\n",
       "    </tr>\n",
       "  </tbody>\n",
       "</table>\n",
       "<p>298 rows × 4 columns</p>\n",
       "</div>"
      ],
      "text/plain": [
       "            date       close company symbol           call\n",
       "16017 2019-03-22 1207.650000          GOOGL           Hold\n",
       "16018 2019-03-21 1236.130000          GOOGL           Hold\n",
       "16019 2019-03-20 1226.430000          GOOGL           Hold\n",
       "16020 2019-03-19 1202.460000          GOOGL           Hold\n",
       "16021 2019-03-18 1188.550000          GOOGL           Hold\n",
       "16022 2019-03-15 1190.300000          GOOGL           Hold\n",
       "16023 2019-03-14 1192.530000          GOOGL           Hold\n",
       "16024 2019-03-13 1199.060000          GOOGL           Hold\n",
       "16025 2019-03-12 1197.250000          GOOGL           Hold\n",
       "16026 2019-03-11 1179.260000          GOOGL           Hold\n",
       "16027 2019-03-08 1149.970000          GOOGL           Hold\n",
       "16028 2019-03-07 1150.850000          GOOGL           Hold\n",
       "16029 2019-03-06 1164.940000          GOOGL           Hold\n",
       "16030 2019-03-05 1169.190000          GOOGL           Hold\n",
       "16031 2019-03-04 1153.420000          GOOGL           Hold\n",
       "16032 2019-03-01 1148.520000          GOOGL            Buy\n",
       "16033 2019-02-28 1126.550000          GOOGL           Hold\n",
       "16034 2019-02-27 1122.890000          GOOGL           Hold\n",
       "16035 2019-02-26 1122.010000          GOOGL           Hold\n",
       "16036 2019-02-25 1117.330000          GOOGL           Hold\n",
       "16037 2019-02-22 1116.560000          GOOGL           Hold\n",
       "16038 2019-02-21 1104.210000          GOOGL           Hold\n",
       "16039 2019-02-20 1120.590000          GOOGL           Hold\n",
       "16040 2019-02-19 1126.510000          GOOGL           Hold\n",
       "16041 2019-02-15 1119.630000          GOOGL           Hold\n",
       "16042 2019-02-14 1129.200000          GOOGL           Hold\n",
       "16043 2019-02-13 1128.630000          GOOGL            Buy\n",
       "16044 2019-02-12 1127.580000          GOOGL           Hold\n",
       "16045 2019-02-11 1102.120000          GOOGL           Hold\n",
       "16046 2019-02-08 1102.380000          GOOGL           Hold\n",
       "...          ...         ...            ...            ...\n",
       "16285 2018-02-27 1117.510000          GOOGL           Hold\n",
       "16286 2018-02-26 1143.700000          GOOGL           Hold\n",
       "16287 2018-02-23 1128.090000          GOOGL           Hold\n",
       "16288 2018-02-22 1109.900000          GOOGL           Hold\n",
       "16289 2018-02-21 1113.750000          GOOGL            Buy\n",
       "16290 2018-02-20 1103.590000          GOOGL           Hold\n",
       "16291 2018-02-16 1095.500000          GOOGL           Hold\n",
       "16292 2018-02-15 1091.360000          GOOGL           Hold\n",
       "16293 2018-02-14 1072.700000          GOOGL           Hold\n",
       "16294 2018-02-13 1054.140000          GOOGL           Hold\n",
       "16295 2018-02-12 1054.560000          GOOGL           Hold\n",
       "16296 2018-02-09 1046.270000          GOOGL           Hold\n",
       "16297 2018-02-08 1007.710000          GOOGL           Hold\n",
       "16298 2018-02-07 1055.410000          GOOGL           Hold\n",
       "16299 2018-02-06 1084.430000          GOOGL           Hold\n",
       "16300 2018-02-05 1062.390000          GOOGL           Hold\n",
       "16301 2018-02-02 1119.200000          GOOGL           Sell\n",
       "16302 2018-02-01 1181.590000          GOOGL           Hold\n",
       "16303 2018-01-31 1182.220000          GOOGL           Hold\n",
       "16304 2018-01-30 1177.370000          GOOGL           Hold\n",
       "16305 2018-01-29 1186.480000          GOOGL           Hold\n",
       "16306 2018-01-26 1187.560000          GOOGL           Hold\n",
       "16307 2018-01-25 1182.140000          GOOGL           Hold\n",
       "16308 2018-01-24 1171.290000          GOOGL           Hold\n",
       "16309 2018-01-23 1176.170000          GOOGL           Hold\n",
       "16310 2018-01-22 1164.160000          GOOGL           Hold\n",
       "16311 2018-01-19 1143.500000          GOOGL           Hold\n",
       "16312 2018-01-18 1135.970000          GOOGL  Not Available\n",
       "16313 2018-01-17 1139.100000          GOOGL  Not Available\n",
       "16314 2018-01-16 1130.700000          GOOGL  Not Available\n",
       "\n",
       "[298 rows x 4 columns]"
      ]
     },
     "execution_count": 42,
     "metadata": {},
     "output_type": "execute_result"
    }
   ],
   "source": [
    "generate_calls('GOOGL','2018-01-15')"
   ]
  },
  {
   "cell_type": "code",
   "execution_count": 37,
   "metadata": {},
   "outputs": [],
   "source": [
    "tsla=generate_calls('TSLA','2018-06-15')"
   ]
  },
  {
   "cell_type": "code",
   "execution_count": 8,
   "metadata": {},
   "outputs": [],
   "source": [
    "tsla.to_csv(\"tesla_calls.csv\")"
   ]
  },
  {
   "cell_type": "code",
   "execution_count": null,
   "metadata": {},
   "outputs": [],
   "source": []
  }
 ],
 "metadata": {
  "kernelspec": {
   "display_name": "Python 3",
   "language": "python",
   "name": "python3"
  },
  "language_info": {
   "codemirror_mode": {
    "name": "ipython",
    "version": 3
   },
   "file_extension": ".py",
   "mimetype": "text/x-python",
   "name": "python",
   "nbconvert_exporter": "python",
   "pygments_lexer": "ipython3",
   "version": "3.6.7"
  }
 },
 "nbformat": 4,
 "nbformat_minor": 2
}
