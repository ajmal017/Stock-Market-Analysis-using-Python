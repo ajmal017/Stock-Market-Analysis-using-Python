{
 "cells": [
  {
   "cell_type": "code",
   "execution_count": 1,
   "metadata": {},
   "outputs": [],
   "source": [
    "#import required libraries \n",
    "import json\n",
    "import requests\n",
    "import pandas as pd"
   ]
  },
  {
   "cell_type": "code",
   "execution_count": null,
   "metadata": {},
   "outputs": [],
   "source": [
    "#Note:- Running these functions will give a different output every time as we are dealing with API’s"
   ]
  },
  {
   "cell_type": "code",
   "execution_count": null,
   "metadata": {},
   "outputs": [],
   "source": [
    "#change the directory to where you want to save the stock data\n",
    "import os\n",
    "os.chdir('C:\\\\Users\\\\mihir\\\\Desktop\\\\IST652\\\\project\\\\')"
   ]
  },
  {
   "cell_type": "code",
   "execution_count": 34,
   "metadata": {},
   "outputs": [],
   "source": [
    "#Function to make repeated calls to the alphavantage API, get json dta format it and convert it to a dataframe \n",
    "def get_stock_data(stocks):\n",
    "    '''Takes in list of company symbols as input and  returns a combined & formatted pandas dataframe as output '''\n",
    "    #url for the API to get different stocks+\n",
    "    listdf=[]\n",
    "    #stockdata=pd.DataFrame()\n",
    "    try:\n",
    "        for stock in stocks:\n",
    "            #string formatting to make several calls to the API \n",
    "            url=\"https://www.alphavantage.co/query?function=TIME_SERIES_DAILY&symbol={:s}&outputsize=full&apikey= 8BH1V7HU7A5NPI12\".format(stock)\n",
    "            #get data from url\n",
    "            response = requests.get(url)\n",
    "            #convert to dict using json.loads \n",
    "            jsondata=json.loads(response.text)\n",
    "            #get the dataframe \n",
    "            df=pd.DataFrame(jsondata['Time Series (Daily)'])\n",
    "            #format it \n",
    "            df=df.transpose()\n",
    "            df.index.name = 'date'\n",
    "            df.reset_index(inplace=True)\n",
    "            #add a column for the company symbol \n",
    "            df['Company_Symbol']=stock\n",
    "            df.columns=['date','open','high','low','close','volume','company symbol']\n",
    "            #append single datafarme to a list\n",
    "            listdf.append(df)\n",
    "            #get concatenated dataframe from the list of dataframes \n",
    "            stockdata=pd.concat(listdf)\n",
    "            \n",
    "    except KeyError:\n",
    "        print(\"Key error at\",stock)\n",
    "    return stockdata\n",
    "    "
   ]
  },
  {
   "cell_type": "code",
   "execution_count": 16,
   "metadata": {},
   "outputs": [],
   "source": [
    "#Load another dataset that has the company symbols and their market cap,keep this within the same directory that is being used\n",
    "companies=pd.read_csv('companylist.csv')"
   ]
  },
  {
   "cell_type": "code",
   "execution_count": 17,
   "metadata": {},
   "outputs": [],
   "source": [
    "#get the symbols for top 50 companies by marketcap as a list to input to the get_stock_data function\n",
    "stocklist=companies.sort_values(by=['MarketCap'],ascending=False)[0:50]['Symbol'].tolist()"
   ]
  },
  {
   "cell_type": "code",
   "execution_count": 18,
   "metadata": {},
   "outputs": [
    {
     "data": {
      "text/plain": [
       "['MSFT',\n",
       " 'AAPL',\n",
       " 'AMZN',\n",
       " 'GOOGL',\n",
       " 'GOOG',\n",
       " 'FB',\n",
       " 'INTC',\n",
       " 'CSCO',\n",
       " 'CMCSA',\n",
       " 'PEP',\n",
       " 'NFLX',\n",
       " 'ADBE',\n",
       " 'PYPL',\n",
       " 'AMGN',\n",
       " 'AVGO',\n",
       " 'NVDA',\n",
       " 'COST',\n",
       " 'TXN',\n",
       " 'SBUX',\n",
       " 'GILD',\n",
       " 'CHTR',\n",
       " 'BKNG',\n",
       " 'QQQ',\n",
       " 'MDLZ',\n",
       " 'QCOM',\n",
       " 'ADP',\n",
       " 'INTU',\n",
       " 'ISRG',\n",
       " 'CELG',\n",
       " 'TMUS',\n",
       " 'CSX',\n",
       " 'WBA',\n",
       " 'CME',\n",
       " 'AMOV',\n",
       " 'MU',\n",
       " 'BIDU',\n",
       " 'TSLA',\n",
       " 'ILMN',\n",
       " 'VRTX',\n",
       " 'BIIB',\n",
       " 'REGN',\n",
       " 'MAR',\n",
       " 'AABA',\n",
       " 'CTSH',\n",
       " 'ADI',\n",
       " 'KHC',\n",
       " 'AMAT',\n",
       " 'EQIX',\n",
       " 'BND',\n",
       " 'ATVI']"
      ]
     },
     "execution_count": 18,
     "metadata": {},
     "output_type": "execute_result"
    }
   ],
   "source": [
    "stocklist"
   ]
  },
  {
   "cell_type": "code",
   "execution_count": 36,
   "metadata": {},
   "outputs": [
    {
     "name": "stdout",
     "output_type": "stream",
     "text": [
      "Key error at FB\n"
     ]
    }
   ],
   "source": [
    "#Make 10 calls to this custom function(to counter rate limiting) for a batch of 5 companies each\n",
    "stock_data_1=get_stock_data(stocklist)"
   ]
  },
  {
   "cell_type": "code",
   "execution_count": 40,
   "metadata": {},
   "outputs": [],
   "source": [
    "stock_data_2=get_stock_data(stocklist[5:10])"
   ]
  },
  {
   "cell_type": "code",
   "execution_count": 42,
   "metadata": {},
   "outputs": [],
   "source": [
    "stock_data_3=get_stock_data(stocklist[10:15])"
   ]
  },
  {
   "cell_type": "code",
   "execution_count": 56,
   "metadata": {},
   "outputs": [],
   "source": [
    "stock_data_4=get_stock_data(stocklist[15:20])"
   ]
  },
  {
   "cell_type": "code",
   "execution_count": 43,
   "metadata": {},
   "outputs": [],
   "source": [
    "stock_data_5=get_stock_data(stocklist[20:25])"
   ]
  },
  {
   "cell_type": "code",
   "execution_count": 44,
   "metadata": {},
   "outputs": [],
   "source": [
    "stock_data_6=get_stock_data(stocklist[25:30])"
   ]
  },
  {
   "cell_type": "code",
   "execution_count": 46,
   "metadata": {},
   "outputs": [],
   "source": [
    "stock_data_7=get_stock_data(stocklist[30:35])"
   ]
  },
  {
   "cell_type": "code",
   "execution_count": 47,
   "metadata": {},
   "outputs": [],
   "source": [
    "stock_data_8=get_stock_data(stocklist[35:40])"
   ]
  },
  {
   "cell_type": "code",
   "execution_count": 49,
   "metadata": {},
   "outputs": [],
   "source": [
    "stock_data_9=get_stock_data(stocklist[40:45])"
   ]
  },
  {
   "cell_type": "code",
   "execution_count": 54,
   "metadata": {},
   "outputs": [],
   "source": [
    "stock_data_10=get_stock_data(stocklist[45:49])"
   ]
  },
  {
   "cell_type": "code",
   "execution_count": 69,
   "metadata": {},
   "outputs": [],
   "source": [
    "#Concatenate all the dataframes \n",
    "StockData=pd.concat([stock_data_1,stock_data_2,stock_data_3,stock_data_4,stock_data_5,stock_data_6,stock_data_7,stock_data_8,stock_data_9,stock_data_10])"
   ]
  },
  {
   "cell_type": "code",
   "execution_count": 64,
   "metadata": {},
   "outputs": [],
   "source": [
    "#Save this datafarme to disk and use later, this was done to avoid being blocked by making the calls everytime I wanted to do a piece of analysis "
   ]
  },
  {
   "cell_type": "code",
   "execution_count": null,
   "metadata": {},
   "outputs": [],
   "source": []
  },
  {
   "cell_type": "code",
   "execution_count": 70,
   "metadata": {},
   "outputs": [],
   "source": [
    "StockData.to_csv(\"stockdata.csv\")"
   ]
  },
  {
   "cell_type": "code",
   "execution_count": null,
   "metadata": {},
   "outputs": [],
   "source": []
  }
 ],
 "metadata": {
  "kernelspec": {
   "display_name": "Python 3",
   "language": "python",
   "name": "python3"
  },
  "language_info": {
   "codemirror_mode": {
    "name": "ipython",
    "version": 3
   },
   "file_extension": ".py",
   "mimetype": "text/x-python",
   "name": "python",
   "nbconvert_exporter": "python",
   "pygments_lexer": "ipython3",
   "version": "3.6.7"
  }
 },
 "nbformat": 4,
 "nbformat_minor": 2
}
